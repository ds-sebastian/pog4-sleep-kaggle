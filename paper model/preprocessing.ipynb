{
 "cells": [
  {
   "cell_type": "code",
   "execution_count": 1,
   "metadata": {},
   "outputs": [],
   "source": [
    "import pandas as pd\n",
    "import numpy as np\n",
    "from scipy.interpolate import interp1d\n",
    "\n",
    "# Read the data\n",
    "df = pd.read_csv('../data/xml_export/HeartRate.csv', low_memory=False)\n",
    "df = pd.read_csv('../data/xml_export/RestingHeartRate.csv', low_memory=False)\n",
    "\n",
    "\n",
    "# Rename column value to heartrate_value\n",
    "df = df.rename(columns={'value': 'heartrate_value'})\n",
    "\n",
    "# Assuming your DataFrame is named 'df'\n",
    "# Step 1: Filter out anomalous values\n",
    "mean_hr = df['heartrate_value'].mean()\n",
    "std_hr = df['heartrate_value'].std()\n",
    "threshold = 5 * std_hr\n",
    "df = df[(df['heartrate_value'] >= mean_hr - threshold) & (df['heartrate_value'] <= mean_hr + threshold)]\n",
    "\n",
    "# Step 2: Normalize the heart rate time-series\n",
    "df['normalized_hr'] = (df['heartrate_value'] - df['heartrate_value'].mean()) / df['heartrate_value'].std()\n",
    "\n",
    "# Step 3: Resample the time-series using linear interpolation to a 2 Hz sampling rate (0.5-second intervals)\n",
    "date_columns = ['creationDate', 'startDate', 'endDate']\n",
    "for column in date_columns:\n",
    "    df[column] = pd.to_datetime(df[column])\n",
    "\n",
    "df = df.set_index('startDate')\n",
    "resampled_df = df.resample('500ms').interpolate(method='linear')\n",
    "\n",
    "# Step 4: Pad with zeros to reach 72,000 elements\n",
    "pad_length = 18000 - len(resampled_df)\n",
    "padding = pd.DataFrame({'normalized_hr': [0] * pad_length}, index=pd.date_range(start=resampled_df.index[-1] + pd.Timedelta('10T'), periods=pad_length, freq='10T'))\n",
    "padded_df = pd.concat([resampled_df, padding])"
   ]
  },
  {
   "cell_type": "code",
   "execution_count": null,
   "metadata": {},
   "outputs": [
    {
     "data": {
      "text/plain": [
       "79831832"
      ]
     },
     "execution_count": 20,
     "metadata": {},
     "output_type": "execute_result"
    }
   ],
   "source": [
    "padded_df"
   ]
  },
  {
   "cell_type": "code",
   "execution_count": null,
   "metadata": {},
   "outputs": [],
   "source": []
  },
  {
   "cell_type": "markdown",
   "metadata": {},
   "source": [
    "\"The heart rate in this effort was extracted from ECG. First we normalize the ECG signal and perform R-wave detection using a Pan-Tompkins based algorithm29. The time differences between consecutive R locations is the inter beat interval (IBI) time series. The IBI time-series is then filtered by removing anomalous values >5 standard deviations that are caused by missed or spurious peak detection. The IHR is calculated as simply the reciprocal of the IBI values. This heart rate time-series is independently normalized for each night by subtracting the mean and dividing by the standard deviation of the night. Finally the time-series is resampled with linear interpolation to a 2 Hz sampling rate and padded with zeros to a constant size corresponding to 10 h or 72,000 elements.\""
   ]
  }
 ],
 "metadata": {
  "kernelspec": {
   "display_name": "pog4-sleep",
   "language": "python",
   "name": "python3"
  },
  "language_info": {
   "codemirror_mode": {
    "name": "ipython",
    "version": 3
   },
   "file_extension": ".py",
   "mimetype": "text/x-python",
   "name": "python",
   "nbconvert_exporter": "python",
   "pygments_lexer": "ipython3",
   "version": "3.9.16"
  },
  "orig_nbformat": 4
 },
 "nbformat": 4,
 "nbformat_minor": 2
}
