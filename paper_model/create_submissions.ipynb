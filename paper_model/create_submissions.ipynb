{
 "cells": [
  {
   "cell_type": "code",
   "execution_count": 1,
   "metadata": {},
   "outputs": [],
   "source": [
    "import os\n",
    "import yaml\n",
    "import json\n",
    "import random\n",
    "import pandas as pd\n",
    "import pytz\n",
    "import numpy as np\n",
    "import xgboost as xgb\n",
    "from sklearn.metrics import mean_squared_error\n",
    "from sklearn.model_selection import cross_val_score, TimeSeriesSplit\n",
    "from sklearn.pipeline import Pipeline\n",
    "from sklearn.preprocessing import MinMaxScaler, StandardScaler, RobustScaler\n",
    "\n",
    "def set_seed(seed):\n",
    "    random.seed(seed)\n",
    "    np.random.seed(seed)\n",
    "    os.environ['PYTHONHASHSEED'] = str(seed)\n",
    "    \n",
    "seed = 42\n",
    "set_seed(seed)"
   ]
  },
  {
   "cell_type": "code",
   "execution_count": 2,
   "metadata": {},
   "outputs": [],
   "source": [
    "    \n",
    "def process_sleep_data(df, freq='1min', start_date='2020-09-26 00:00:00', end_date='2023-03-17 00:00:00'):\n",
    "    #exclude where valud is HKCategoryValueSleepAnalysisInBed\n",
    "    df = df.drop(df[df['value'] != 'HKCategoryValueSleepAnalysisInBed'].index)\n",
    "    \n",
    "    # Parse dates and times\n",
    "    df['startDate'] = pd.to_datetime(df['startDate'])\n",
    "    df['endDate'] = pd.to_datetime(df['endDate'])\n",
    "    df['adjusted_startDate'] = df['startDate'] - pd.to_timedelta('12:00:00') # Subtract 12 hours from startDate\n",
    "\n",
    "    # Group by date and find min startDate and max endDate\n",
    "    df = df.groupby(df['adjusted_startDate'].dt.date).agg(startDate=('startDate', 'min'),endDate=('endDate', 'max')).reset_index(drop=True)\n",
    "    df[\"value\"] = 1 \n",
    "    \n",
    "    date_range = pd.date_range(start_date, end_date, freq=freq, tz = pytz.FixedOffset(-240))\n",
    "    expanded_df = pd.DataFrame(date_range, columns=['date'])\n",
    "    expanded_df['value'] = 0 # Start with 0 and replace with 1s if in interval\n",
    "\n",
    "    for _, row in df.iterrows():\n",
    "        mask = (expanded_df['date'] >= row['startDate']) & (expanded_df['date'] <= row['endDate'])\n",
    "        expanded_df.loc[mask, 'value'] = row['value']\n",
    "        \n",
    "    expanded_df = expanded_df.rename(columns={'value': 'sleep'})\n",
    "\n",
    "    return expanded_df\n",
    "\n",
    "def preprocess_feature_data(df, col_name, freq='1min', start_date='2020-09-26 00:00:00', end_date='2023-03-17 00:00:00'):\n",
    "    df = df[(df['startDate'] >= start_date) & (df['startDate'] <= end_date)]\n",
    "    \n",
    "    df = pd.melt(df, id_vars=['value'], value_vars=['startDate', 'endDate'], value_name='date')\n",
    "    df = df.groupby('date', as_index=False).mean(numeric_only=True)\n",
    "    df = df.sort_values(by='date')\n",
    "    \n",
    "    df['date'] = pd.to_datetime(df['date'])\n",
    "    df = df.set_index('date')\n",
    "    df = df.resample(freq).mean()\n",
    "    \n",
    "    df = df.interpolate().rolling(2).mean()\n",
    "    df = df.fillna(method=\"bfill\")\n",
    "    \n",
    "    df = df.reset_index()\n",
    "    df = df.rename(columns={'date': 'date', 'value': col_name})\n",
    "    \n",
    "    return df\n",
    "\n",
    "def create_lags(df, column_name, n_lags):\n",
    "    bckwd_columns = [df[column_name].shift(i).fillna(method=\"bfill\").fillna(method=\"ffill\") for i in range(1, n_lags+1)]\n",
    "    fwd_columns = [df[column_name].shift(-i).fillna(method=\"bfill\").fillna(method=\"ffill\") for i in range(1, n_lags+1)]\n",
    "    bckwd_names = [f\"{column_name}_bckwd_{i}\" for i in range(1, n_lags+1)]\n",
    "    fwd_names = [f\"{column_name}_fwd_{i}\" for i in range(1, n_lags+1)]\n",
    "    df_lags = pd.concat(bckwd_columns + fwd_columns, axis=1, keys=bckwd_names + fwd_names)\n",
    "    return pd.concat([df, df_lags], axis=1)"
   ]
  },
  {
   "cell_type": "code",
   "execution_count": 3,
   "metadata": {},
   "outputs": [
    {
     "name": "stdout",
     "output_type": "stream",
     "text": [
      "                           sleep    hr  hr_bckwd_1  hr_bckwd_2  hr_bckwd_3  \\\n",
      "date                                                                         \n",
      "2020-09-26 00:00:00-04:00    0.0  59.0        59.0        59.0        59.0   \n",
      "2020-09-26 00:01:00-04:00    0.0  59.0        59.0        59.0        59.0   \n",
      "\n",
      "                           hr_bckwd_4  hr_bckwd_5  hr_bckwd_6  hr_bckwd_7  \\\n",
      "date                                                                        \n",
      "2020-09-26 00:00:00-04:00        59.0        59.0        59.0        59.0   \n",
      "2020-09-26 00:01:00-04:00        59.0        59.0        59.0        59.0   \n",
      "\n",
      "                           hr_bckwd_8  ...  distance_fwd_51  distance_fwd_52  \\\n",
      "date                                   ...                                     \n",
      "2020-09-26 00:00:00-04:00        59.0  ...         0.018251         0.018215   \n",
      "2020-09-26 00:01:00-04:00        59.0  ...         0.018251         0.018215   \n",
      "\n",
      "                           distance_fwd_53  distance_fwd_54  distance_fwd_55  \\\n",
      "date                                                                           \n",
      "2020-09-26 00:00:00-04:00         0.018179         0.018143         0.018108   \n",
      "2020-09-26 00:01:00-04:00         0.018179         0.018143         0.018108   \n",
      "\n",
      "                           distance_fwd_56  distance_fwd_57  distance_fwd_58  \\\n",
      "date                                                                           \n",
      "2020-09-26 00:00:00-04:00         0.018072         0.018036            0.018   \n",
      "2020-09-26 00:01:00-04:00         0.018072         0.018036            0.018   \n",
      "\n",
      "                           distance_fwd_59  distance_fwd_60  \n",
      "date                                                         \n",
      "2020-09-26 00:00:00-04:00         0.017964         0.017929  \n",
      "2020-09-26 00:01:00-04:00         0.017964         0.017929  \n",
      "\n",
      "[2 rows x 364 columns]\n"
     ]
    }
   ],
   "source": [
    "features = [\n",
    "    ('../data/xml_export/HeartRate.csv', \"hr\"),\n",
    "    ('../data/xml_export/StepCount.csv', \"steps\"),\n",
    "    ('../data/xml_export/DistanceWalkingRunning.csv', \"distance\"),\n",
    "    ]\n",
    "\n",
    "df = pd.DataFrame()\n",
    "for file_path, col_name in features:\n",
    "    raw = pd.read_csv(file_path, low_memory=False)\n",
    "    preprocessed_df = preprocess_feature_data(raw, col_name, freq=\"1min\", start_date='2020-09-26 00:00:00', end_date='2023-03-17 00:00:00')\n",
    "    lagged_df = create_lags(preprocessed_df, col_name, 60)\n",
    "    if df.empty:\n",
    "        df = lagged_df\n",
    "    else:\n",
    "        df = pd.merge(df, lagged_df, on='date', how='outer')\n",
    "\n",
    "df_sleep = pd.read_csv('../data/train_detailed.csv', low_memory=False)\n",
    "df_sleep = process_sleep_data(df_sleep)\n",
    "\n",
    "df = pd.merge(df_sleep, df, on='date', how='outer')\n",
    "df = df.set_index(\"date\")\n",
    "df = df.astype('float32')\n",
    "\n",
    "df = df.fillna(method='ffill').fillna(method='bfill')\n",
    "\n",
    "print(df.head(2))\n",
    "\n",
    "train = df[:'2021-12-31'] \n",
    "sub = df['2022-1-1':]\n",
    "\n",
    "X, y = train.drop(columns=[\"sleep\"]), train[\"sleep\"]\n",
    "sub_X = sub.drop(columns=[\"sleep\"])\n",
    "sub_start_dates = sub_X.index"
   ]
  },
  {
   "cell_type": "code",
   "execution_count": 4,
   "metadata": {},
   "outputs": [
    {
     "name": "stdout",
     "output_type": "stream",
     "text": [
      "Best Parameters for New Model:  {'gamma': 0.05393989997704507, 'scaler': 'minmax', 'max_depth': 7, 'subsample': 0.5682998014333558, 'n_estimators': 359, 'learning_rate': 0.24268051240949223, 'colsample_bytree': 0.6071273304120464, 'min_child_weight': 4}\n"
     ]
    }
   ],
   "source": [
    "with open(\"sleep_model_best_params.json\", \"r\") as f:\n",
    "    sleep_model_best_params = json.load(f)\n",
    "    \n",
    "print(\"Best Parameters for New Model: \", sleep_model_best_params)"
   ]
  },
  {
   "cell_type": "code",
   "execution_count": 7,
   "metadata": {},
   "outputs": [
    {
     "data": {
      "text/html": [
       "<style>#sk-container-id-1 {color: black;background-color: white;}#sk-container-id-1 pre{padding: 0;}#sk-container-id-1 div.sk-toggleable {background-color: white;}#sk-container-id-1 label.sk-toggleable__label {cursor: pointer;display: block;width: 100%;margin-bottom: 0;padding: 0.3em;box-sizing: border-box;text-align: center;}#sk-container-id-1 label.sk-toggleable__label-arrow:before {content: \"▸\";float: left;margin-right: 0.25em;color: #696969;}#sk-container-id-1 label.sk-toggleable__label-arrow:hover:before {color: black;}#sk-container-id-1 div.sk-estimator:hover label.sk-toggleable__label-arrow:before {color: black;}#sk-container-id-1 div.sk-toggleable__content {max-height: 0;max-width: 0;overflow: hidden;text-align: left;background-color: #f0f8ff;}#sk-container-id-1 div.sk-toggleable__content pre {margin: 0.2em;color: black;border-radius: 0.25em;background-color: #f0f8ff;}#sk-container-id-1 input.sk-toggleable__control:checked~div.sk-toggleable__content {max-height: 200px;max-width: 100%;overflow: auto;}#sk-container-id-1 input.sk-toggleable__control:checked~label.sk-toggleable__label-arrow:before {content: \"▾\";}#sk-container-id-1 div.sk-estimator input.sk-toggleable__control:checked~label.sk-toggleable__label {background-color: #d4ebff;}#sk-container-id-1 div.sk-label input.sk-toggleable__control:checked~label.sk-toggleable__label {background-color: #d4ebff;}#sk-container-id-1 input.sk-hidden--visually {border: 0;clip: rect(1px 1px 1px 1px);clip: rect(1px, 1px, 1px, 1px);height: 1px;margin: -1px;overflow: hidden;padding: 0;position: absolute;width: 1px;}#sk-container-id-1 div.sk-estimator {font-family: monospace;background-color: #f0f8ff;border: 1px dotted black;border-radius: 0.25em;box-sizing: border-box;margin-bottom: 0.5em;}#sk-container-id-1 div.sk-estimator:hover {background-color: #d4ebff;}#sk-container-id-1 div.sk-parallel-item::after {content: \"\";width: 100%;border-bottom: 1px solid gray;flex-grow: 1;}#sk-container-id-1 div.sk-label:hover label.sk-toggleable__label {background-color: #d4ebff;}#sk-container-id-1 div.sk-serial::before {content: \"\";position: absolute;border-left: 1px solid gray;box-sizing: border-box;top: 0;bottom: 0;left: 50%;z-index: 0;}#sk-container-id-1 div.sk-serial {display: flex;flex-direction: column;align-items: center;background-color: white;padding-right: 0.2em;padding-left: 0.2em;position: relative;}#sk-container-id-1 div.sk-item {position: relative;z-index: 1;}#sk-container-id-1 div.sk-parallel {display: flex;align-items: stretch;justify-content: center;background-color: white;position: relative;}#sk-container-id-1 div.sk-item::before, #sk-container-id-1 div.sk-parallel-item::before {content: \"\";position: absolute;border-left: 1px solid gray;box-sizing: border-box;top: 0;bottom: 0;left: 50%;z-index: -1;}#sk-container-id-1 div.sk-parallel-item {display: flex;flex-direction: column;z-index: 1;position: relative;background-color: white;}#sk-container-id-1 div.sk-parallel-item:first-child::after {align-self: flex-end;width: 50%;}#sk-container-id-1 div.sk-parallel-item:last-child::after {align-self: flex-start;width: 50%;}#sk-container-id-1 div.sk-parallel-item:only-child::after {width: 0;}#sk-container-id-1 div.sk-dashed-wrapped {border: 1px dashed gray;margin: 0 0.4em 0.5em 0.4em;box-sizing: border-box;padding-bottom: 0.4em;background-color: white;}#sk-container-id-1 div.sk-label label {font-family: monospace;font-weight: bold;display: inline-block;line-height: 1.2em;}#sk-container-id-1 div.sk-label-container {text-align: center;}#sk-container-id-1 div.sk-container {/* jupyter's `normalize.less` sets `[hidden] { display: none; }` but bootstrap.min.css set `[hidden] { display: none !important; }` so we also need the `!important` here to be able to override the default hidden behavior on the sphinx rendered scikit-learn.org. See: https://github.com/scikit-learn/scikit-learn/issues/21755 */display: inline-block !important;position: relative;}#sk-container-id-1 div.sk-text-repr-fallback {display: none;}</style><div id=\"sk-container-id-1\" class=\"sk-top-container\"><div class=\"sk-text-repr-fallback\"><pre>Pipeline(steps=[(&#x27;scaler&#x27;, MinMaxScaler()),\n",
       "                (&#x27;model&#x27;,\n",
       "                 XGBClassifier(base_score=None, booster=None, callbacks=None,\n",
       "                               colsample_bylevel=None, colsample_bynode=None,\n",
       "                               colsample_bytree=0.6071273304120464,\n",
       "                               early_stopping_rounds=None,\n",
       "                               enable_categorical=False, eval_metric=None,\n",
       "                               feature_types=None, gamma=0.05393989997704507,\n",
       "                               gpu_id=0, grow_policy=None, importance_type=None,\n",
       "                               interaction_constraints=None,\n",
       "                               learning_rate=0.24268051240949223, max_bin=None,\n",
       "                               max_cat_threshold=None, max_cat_to_onehot=None,\n",
       "                               max_delta_step=None, max_depth=7,\n",
       "                               max_leaves=None, min_child_weight=4, missing=nan,\n",
       "                               monotone_constraints=None, n_estimators=359,\n",
       "                               n_jobs=None, num_parallel_tree=None,\n",
       "                               predictor=None, random_state=42, ...))])</pre><b>In a Jupyter environment, please rerun this cell to show the HTML representation or trust the notebook. <br />On GitHub, the HTML representation is unable to render, please try loading this page with nbviewer.org.</b></div><div class=\"sk-container\" hidden><div class=\"sk-item sk-dashed-wrapped\"><div class=\"sk-label-container\"><div class=\"sk-label sk-toggleable\"><input class=\"sk-toggleable__control sk-hidden--visually\" id=\"sk-estimator-id-1\" type=\"checkbox\" ><label for=\"sk-estimator-id-1\" class=\"sk-toggleable__label sk-toggleable__label-arrow\">Pipeline</label><div class=\"sk-toggleable__content\"><pre>Pipeline(steps=[(&#x27;scaler&#x27;, MinMaxScaler()),\n",
       "                (&#x27;model&#x27;,\n",
       "                 XGBClassifier(base_score=None, booster=None, callbacks=None,\n",
       "                               colsample_bylevel=None, colsample_bynode=None,\n",
       "                               colsample_bytree=0.6071273304120464,\n",
       "                               early_stopping_rounds=None,\n",
       "                               enable_categorical=False, eval_metric=None,\n",
       "                               feature_types=None, gamma=0.05393989997704507,\n",
       "                               gpu_id=0, grow_policy=None, importance_type=None,\n",
       "                               interaction_constraints=None,\n",
       "                               learning_rate=0.24268051240949223, max_bin=None,\n",
       "                               max_cat_threshold=None, max_cat_to_onehot=None,\n",
       "                               max_delta_step=None, max_depth=7,\n",
       "                               max_leaves=None, min_child_weight=4, missing=nan,\n",
       "                               monotone_constraints=None, n_estimators=359,\n",
       "                               n_jobs=None, num_parallel_tree=None,\n",
       "                               predictor=None, random_state=42, ...))])</pre></div></div></div><div class=\"sk-serial\"><div class=\"sk-item\"><div class=\"sk-estimator sk-toggleable\"><input class=\"sk-toggleable__control sk-hidden--visually\" id=\"sk-estimator-id-2\" type=\"checkbox\" ><label for=\"sk-estimator-id-2\" class=\"sk-toggleable__label sk-toggleable__label-arrow\">MinMaxScaler</label><div class=\"sk-toggleable__content\"><pre>MinMaxScaler()</pre></div></div></div><div class=\"sk-item\"><div class=\"sk-estimator sk-toggleable\"><input class=\"sk-toggleable__control sk-hidden--visually\" id=\"sk-estimator-id-3\" type=\"checkbox\" ><label for=\"sk-estimator-id-3\" class=\"sk-toggleable__label sk-toggleable__label-arrow\">XGBClassifier</label><div class=\"sk-toggleable__content\"><pre>XGBClassifier(base_score=None, booster=None, callbacks=None,\n",
       "              colsample_bylevel=None, colsample_bynode=None,\n",
       "              colsample_bytree=0.6071273304120464, early_stopping_rounds=None,\n",
       "              enable_categorical=False, eval_metric=None, feature_types=None,\n",
       "              gamma=0.05393989997704507, gpu_id=0, grow_policy=None,\n",
       "              importance_type=None, interaction_constraints=None,\n",
       "              learning_rate=0.24268051240949223, max_bin=None,\n",
       "              max_cat_threshold=None, max_cat_to_onehot=None,\n",
       "              max_delta_step=None, max_depth=7, max_leaves=None,\n",
       "              min_child_weight=4, missing=nan, monotone_constraints=None,\n",
       "              n_estimators=359, n_jobs=None, num_parallel_tree=None,\n",
       "              predictor=None, random_state=42, ...)</pre></div></div></div></div></div></div></div>"
      ],
      "text/plain": [
       "Pipeline(steps=[('scaler', MinMaxScaler()),\n",
       "                ('model',\n",
       "                 XGBClassifier(base_score=None, booster=None, callbacks=None,\n",
       "                               colsample_bylevel=None, colsample_bynode=None,\n",
       "                               colsample_bytree=0.6071273304120464,\n",
       "                               early_stopping_rounds=None,\n",
       "                               enable_categorical=False, eval_metric=None,\n",
       "                               feature_types=None, gamma=0.05393989997704507,\n",
       "                               gpu_id=0, grow_policy=None, importance_type=None,\n",
       "                               interaction_constraints=None,\n",
       "                               learning_rate=0.24268051240949223, max_bin=None,\n",
       "                               max_cat_threshold=None, max_cat_to_onehot=None,\n",
       "                               max_delta_step=None, max_depth=7,\n",
       "                               max_leaves=None, min_child_weight=4, missing=nan,\n",
       "                               monotone_constraints=None, n_estimators=359,\n",
       "                               n_jobs=None, num_parallel_tree=None,\n",
       "                               predictor=None, random_state=42, ...))])"
      ]
     },
     "execution_count": 7,
     "metadata": {},
     "output_type": "execute_result"
    }
   ],
   "source": [
    "xgb_params = {\n",
    "    \"learning_rate\": sleep_model_best_params[\"learning_rate\"],\n",
    "    \"max_depth\": sleep_model_best_params[\"max_depth\"],\n",
    "    \"n_estimators\": sleep_model_best_params[\"n_estimators\"],\n",
    "    \"subsample\": sleep_model_best_params[\"subsample\"],\n",
    "    \"colsample_bytree\": sleep_model_best_params[\"colsample_bytree\"],\n",
    "    \"gamma\": sleep_model_best_params[\"gamma\"],\n",
    "    \"min_child_weight\": sleep_model_best_params[\"min_child_weight\"],\n",
    "    \"objective\": \"binary:logistic\",\n",
    "    \"seed\": seed\n",
    "}\n",
    "\n",
    "if sleep_model_best_params[\"scaler\"] == \"minmax\":\n",
    "    scaler = MinMaxScaler()\n",
    "elif sleep_model_best_params[\"scaler\"] == \"standard\":\n",
    "    scaler = StandardScaler()\n",
    "elif sleep_model_best_params[\"scaler\"] == \"robust\":\n",
    "    scaler = RobustScaler()\n",
    "elif sleep_model_best_params[\"scaler\"] == \"none\":\n",
    "    scaler = None\n",
    "\n",
    "model = xgb.XGBClassifier(**xgb_params, gpu_id=0, tree_method=\"gpu_hist\", random_state=seed)\n",
    "\n",
    "pipeline = Pipeline(steps=[(\"scaler\", scaler), (\"model\", model)])\n",
    "\n",
    "pipeline.fit(X, y)"
   ]
  },
  {
   "cell_type": "code",
   "execution_count": 8,
   "metadata": {},
   "outputs": [],
   "source": [
    "predictions = pipeline.predict_proba(sub_X)\n",
    "\n",
    "predictions = pd.DataFrame({\"startDate\": sub_start_dates, \"sleep_prob\": predictions[:, 1]})"
   ]
  },
  {
   "cell_type": "code",
   "execution_count": 10,
   "metadata": {},
   "outputs": [
    {
     "name": "stdout",
     "output_type": "stream",
     "text": [
      "           date  sleep_hours_predicted\n",
      "0    2021-12-31               5.652999\n",
      "1    2022-01-01               6.991615\n",
      "2    2022-01-02               6.384168\n",
      "3    2022-01-03               6.750106\n",
      "4    2022-01-04               8.148725\n",
      "..          ...                    ...\n",
      "436  2023-03-12               9.085063\n",
      "437  2023-03-13               7.990170\n",
      "438  2023-03-14               5.695815\n",
      "439  2023-03-15               2.833699\n",
      "440  2023-03-16               0.523080\n",
      "\n",
      "[441 rows x 2 columns]\n"
     ]
    }
   ],
   "source": [
    "# First, convert the \"startDate\" to a datetime object\n",
    "predictions[\"startDate\"] = pd.to_datetime(predictions[\"startDate\"])\n",
    "\n",
    "# Shift the date back by 12 hours\n",
    "predictions[\"shifted_date\"] = predictions[\"startDate\"] - pd.Timedelta(hours=12)\n",
    "\n",
    "# Extract the date (without time) and create a new column called \"date\"\n",
    "predictions[\"date\"] = predictions[\"shifted_date\"].dt.date\n",
    "\n",
    "# Group the data by \"date\" and sum the \"sleep_prob\" values\n",
    "sleep_hours = predictions.groupby(\"date\")[\"sleep_prob\"].sum()\n",
    "\n",
    "# Multiply the sum by the time interval (minutes) and convert it to hours\n",
    "sleep_hours = sleep_hours * 1 / 60\n",
    "\n",
    "# Convert the sleep_hours to a DataFrame and reset the index\n",
    "sleep_hours = sleep_hours.reset_index()\n",
    "sleep_hours.columns = [\"date\", \"sleep_hours_predicted\"]\n",
    "\n",
    "print(sleep_hours)"
   ]
  },
  {
   "cell_type": "code",
   "execution_count": 11,
   "metadata": {},
   "outputs": [],
   "source": [
    "#replace < 2 with 6.666\n",
    "sleep_hours.loc[sleep_hours['sleep_hours_predicted'] < 1, 'sleep_hours_predicted'] = 6.666\n",
    "\n",
    "# fill na \n",
    "sleep_hours = sleep_hours.fillna(6.666)\n",
    "\n",
    "# Drop first 1 day\n",
    "sleep_hours = sleep_hours.iloc[1:]"
   ]
  },
  {
   "cell_type": "code",
   "execution_count": 12,
   "metadata": {},
   "outputs": [
    {
     "data": {
      "text/html": [
       "<div>\n",
       "<style scoped>\n",
       "    .dataframe tbody tr th:only-of-type {\n",
       "        vertical-align: middle;\n",
       "    }\n",
       "\n",
       "    .dataframe tbody tr th {\n",
       "        vertical-align: top;\n",
       "    }\n",
       "\n",
       "    .dataframe thead th {\n",
       "        text-align: right;\n",
       "    }\n",
       "</style>\n",
       "<table border=\"1\" class=\"dataframe\">\n",
       "  <thead>\n",
       "    <tr style=\"text-align: right;\">\n",
       "      <th></th>\n",
       "      <th>date</th>\n",
       "      <th>sleep_hours_predicted</th>\n",
       "    </tr>\n",
       "  </thead>\n",
       "  <tbody>\n",
       "    <tr>\n",
       "      <th>1</th>\n",
       "      <td>2022-01-01</td>\n",
       "      <td>6.991615</td>\n",
       "    </tr>\n",
       "    <tr>\n",
       "      <th>2</th>\n",
       "      <td>2022-01-02</td>\n",
       "      <td>6.384168</td>\n",
       "    </tr>\n",
       "    <tr>\n",
       "      <th>3</th>\n",
       "      <td>2022-01-03</td>\n",
       "      <td>6.750106</td>\n",
       "    </tr>\n",
       "    <tr>\n",
       "      <th>4</th>\n",
       "      <td>2022-01-04</td>\n",
       "      <td>8.148725</td>\n",
       "    </tr>\n",
       "    <tr>\n",
       "      <th>5</th>\n",
       "      <td>2022-01-05</td>\n",
       "      <td>4.979812</td>\n",
       "    </tr>\n",
       "    <tr>\n",
       "      <th>...</th>\n",
       "      <td>...</td>\n",
       "      <td>...</td>\n",
       "    </tr>\n",
       "    <tr>\n",
       "      <th>436</th>\n",
       "      <td>2023-03-12</td>\n",
       "      <td>9.085063</td>\n",
       "    </tr>\n",
       "    <tr>\n",
       "      <th>437</th>\n",
       "      <td>2023-03-13</td>\n",
       "      <td>7.990170</td>\n",
       "    </tr>\n",
       "    <tr>\n",
       "      <th>438</th>\n",
       "      <td>2023-03-14</td>\n",
       "      <td>5.695815</td>\n",
       "    </tr>\n",
       "    <tr>\n",
       "      <th>439</th>\n",
       "      <td>2023-03-15</td>\n",
       "      <td>2.833699</td>\n",
       "    </tr>\n",
       "    <tr>\n",
       "      <th>440</th>\n",
       "      <td>2023-03-16</td>\n",
       "      <td>6.666000</td>\n",
       "    </tr>\n",
       "  </tbody>\n",
       "</table>\n",
       "<p>440 rows × 2 columns</p>\n",
       "</div>"
      ],
      "text/plain": [
       "           date  sleep_hours_predicted\n",
       "1    2022-01-01               6.991615\n",
       "2    2022-01-02               6.384168\n",
       "3    2022-01-03               6.750106\n",
       "4    2022-01-04               8.148725\n",
       "5    2022-01-05               4.979812\n",
       "..          ...                    ...\n",
       "436  2023-03-12               9.085063\n",
       "437  2023-03-13               7.990170\n",
       "438  2023-03-14               5.695815\n",
       "439  2023-03-15               2.833699\n",
       "440  2023-03-16               6.666000\n",
       "\n",
       "[440 rows x 2 columns]"
      ]
     },
     "execution_count": 12,
     "metadata": {},
     "output_type": "execute_result"
    }
   ],
   "source": [
    "sleep_hours"
   ]
  },
  {
   "cell_type": "code",
   "execution_count": 13,
   "metadata": {},
   "outputs": [
    {
     "data": {
      "text/plain": [
       "<Axes: >"
      ]
     },
     "execution_count": 13,
     "metadata": {},
     "output_type": "execute_result"
    },
    {
     "data": {
      "image/png": "[encoded data removed]",
      "text/plain": [
       "<Figure size 640x480 with 1 Axes>"
      ]
     },
     "metadata": {},
     "output_type": "display_data"
    }
   ],
   "source": [
    "sleep_hours.sleep_hours_predicted.hist()"
   ]
  },
  {
   "cell_type": "code",
   "execution_count": 14,
   "metadata": {},
   "outputs": [],
   "source": [
    "submission = pd.read_csv(\"../data/sample_submission.csv\")\n",
    "submission[\"date\"] = submission[\"date\"].astype(str)\n",
    "sleep_hours[\"date\"] = sleep_hours[\"date\"].astype(str)\n",
    "submission = submission.merge(sleep_hours, on=\"date\", how=\"left\")\n",
    "\n",
    "# drop sleep hours\n",
    "submission = submission.drop(columns=['sleep_hours'])\n",
    "\n",
    "# rename sleep hours predicted \n",
    "submission = submission.rename(columns={'sleep_hours_predicted': 'sleep_hours'})\n"
   ]
  },
  {
   "cell_type": "code",
   "execution_count": null,
   "metadata": {},
   "outputs": [],
   "source": [
    "submission[\"sleep_hours\"] = (submission[\"sleep_hours\"] + 6.666 *2)/3"
   ]
  },
  {
   "cell_type": "code",
   "execution_count": 15,
   "metadata": {},
   "outputs": [],
   "source": [
    "submission.to_csv(\"prediction_sleep_hours.csv\", index=False)"
   ]
  }
 ],
 "metadata": {
  "kernelspec": {
   "display_name": "pog4-sleep",
   "language": "python",
   "name": "python3"
  },
  "language_info": {
   "codemirror_mode": {
    "name": "ipython",
    "version": 3
   },
   "file_extension": ".py",
   "mimetype": "text/x-python",
   "name": "python",
   "nbconvert_exporter": "python",
   "pygments_lexer": "ipython3",
   "version": "3.9.16"
  },
  "orig_nbformat": 4
 },
 "nbformat": 4,
 "nbformat_minor": 2
}
